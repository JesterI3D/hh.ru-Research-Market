{
 "cells": [
  {
   "cell_type": "code",
   "execution_count": 92,
   "metadata": {},
   "outputs": [
    {
     "name": "stdout",
     "output_type": "stream",
     "text": [
      "Using matplotlib backend: Qt5Agg\n"
     ]
    },
    {
     "data": {
      "text/html": [
       "        <script type=\"text/javascript\">\n",
       "        window.PlotlyConfig = {MathJaxConfig: 'local'};\n",
       "        if (window.MathJax) {MathJax.Hub.Config({SVG: {font: \"STIX-Web\"}});}\n",
       "        if (typeof require !== 'undefined') {\n",
       "        require.undef(\"plotly\");\n",
       "        requirejs.config({\n",
       "            paths: {\n",
       "                'plotly': ['https://cdn.plot.ly/plotly-latest.min']\n",
       "            }\n",
       "        });\n",
       "        require(['plotly'], function(Plotly) {\n",
       "            window._Plotly = Plotly;\n",
       "        });\n",
       "        }\n",
       "        </script>\n",
       "        "
      ]
     },
     "metadata": {},
     "output_type": "display_data"
    },
    {
     "name": "stdout",
     "output_type": "stream",
     "text": [
      "                               title  \\\n",
      "0                 Software developer   \n",
      "1   Lead Mobile Networking Architect   \n",
      "2                  Developer-analyst   \n",
      "3                   Python-developer   \n",
      "4                   Python-developer   \n",
      "5                Python&JS-developer   \n",
      "6              DevOps Engineer Linux   \n",
      "7                     Python teacher   \n",
      "8                 Senior QA Engineer   \n",
      "9                       DB-developer   \n",
      "10                 Software Engineer   \n",
      "11             Senior system analyst   \n",
      "12                      DB-developer   \n",
      "13                 BigData-developer   \n",
      "\n",
      "                                                href                 company  \\\n",
      "0   https://tver.hh.ru/vacancy/32843807?query=Python             OOO Integer   \n",
      "1   https://tver.hh.ru/vacancy/33321515?query=Python          Nokia Networks   \n",
      "2   https://tver.hh.ru/vacancy/32790471?query=Python       OOO Alpha Company   \n",
      "3   https://tver.hh.ru/vacancy/31510872?query=Python                RuBaseIT   \n",
      "4   https://tver.hh.ru/vacancy/32730086?query=Python                RuBaseIT   \n",
      "5   https://tver.hh.ru/vacancy/30693999?query=Python                RuBaseIT   \n",
      "6   https://tver.hh.ru/vacancy/33009714?query=Python         OOO Telecontact   \n",
      "7   https://tver.hh.ru/vacancy/32856867?query=Python  techno-land Quantorium   \n",
      "8   https://tver.hh.ru/vacancy/32849995?query=Python        Studio-Evolution   \n",
      "9   https://tver.hh.ru/vacancy/31510793?query=Python                RuBaseIT   \n",
      "10  https://tver.hh.ru/vacancy/31510904?query=Python                RuBaseIT   \n",
      "11  https://tver.hh.ru/vacancy/31452735?query=Python               Accenture   \n",
      "12  https://tver.hh.ru/vacancy/31510838?query=Python                RuBaseIT   \n",
      "13  https://tver.hh.ru/vacancy/32803116?query=Python         EPAM System Inc   \n",
      "\n",
      "    compensation  \n",
      "0        30000.0  \n",
      "1            NaN  \n",
      "2        55000.0  \n",
      "3        52500.0  \n",
      "4        60000.0  \n",
      "5        70000.0  \n",
      "6        50000.0  \n",
      "7        33000.0  \n",
      "8        95000.0  \n",
      "9            NaN  \n",
      "10           NaN  \n",
      "11           NaN  \n",
      "12           NaN  \n",
      "13           NaN  \n",
      "По запросу найдено:  13 \n",
      "\n",
      "ООО Интеджер\n",
      "https://tver.hh.ru/vacancy/32843807?query=Python\n",
      "Программист-разработчик\n",
      "от 30 000 руб. \n",
      "\n",
      " Nokia Networks\n",
      "https://tver.hh.ru/vacancy/33321515?query=Python\n",
      "Ведущий Инженер по планированию и оптимизации мобильной сети\n",
      " \n",
      "\n",
      "ООО Торговая Компания Альфа\n",
      "https://tver.hh.ru/vacancy/32790471?query=Python\n",
      "Программист-аналитик\n",
      "до 55 000 руб. \n",
      "\n",
      " Русские базовые информационные технологии, Научно-производственное объединение\n",
      "https://tver.hh.ru/vacancy/31510872?query=Python\n",
      "Программист Python\n",
      "35 000-70 000 руб. \n",
      "\n",
      " Русские базовые информационные технологии, Научно-производственное объединение\n",
      "https://tver.hh.ru/vacancy/32730086?query=Python\n",
      "Python-разработчик\n",
      "от 60 000 руб. \n",
      "\n",
      " Русские базовые информационные технологии, Научно-производственное объединение\n",
      "https://tver.hh.ru/vacancy/30693999?query=Python\n",
      "Разработчик по Javascript и Python\n",
      "от 70 000 руб. \n",
      "\n",
      "ООО ТЕЛЕКОНТАКТ\n",
      "https://tver.hh.ru/vacancy/33009714?query=Python\n",
      "Системный администратор Linux\n",
      "от 50 000 руб. \n",
      "\n",
      " Детский технопарк Кванториум\n",
      "https://tver.hh.ru/vacancy/32856867?query=Python\n",
      "Педагог Python\n",
      "от 33 000 руб. \n",
      "\n",
      " Studio-Evolution\n",
      "https://tver.hh.ru/vacancy/32849995?query=Python\n",
      "Senior Software QA Engineer / Lead Software QA Engineer\n",
      "70 000-120 000 руб. \n",
      "\n",
      " Русские базовые информационные технологии, Научно-производственное объединение\n",
      "https://tver.hh.ru/vacancy/31510793?query=Python\n",
      "Разработчик-проектировщик БД (инженер-программист)\n",
      " \n",
      "\n",
      " Русские базовые информационные технологии, Научно-производственное объединение\n",
      "https://tver.hh.ru/vacancy/31510904?query=Python\n",
      "Инженер - программист\n",
      " \n",
      "\n",
      " Accenture\n",
      "https://tver.hh.ru/vacancy/31452735?query=Python\n",
      "Senior system analyst\n",
      " \n",
      "\n",
      " Русские базовые информационные технологии, Научно-производственное объединение\n",
      "https://tver.hh.ru/vacancy/31510838?query=Python\n",
      "Разработчик-проектировщик баз данных (ведущий инженер-программист)\n",
      " \n",
      "\n",
      "Connection is OK! \n",
      "\n"
     ]
    }
   ],
   "source": [
    "import requests\n",
    "from bs4 import BeautifulSoup as bs\n",
    "import pandas as pd\n",
    "import numpy as np\n",
    "import matplotlib.pyplot as plt\n",
    "%matplotlib\n",
    "import plotly.plotly as py\n",
    "import plotly.graph_objs as go\n",
    "from plotly.offline import iplot\n",
    "import cufflinks\n",
    "cufflinks.go_offline()\n",
    "\n",
    "\n",
    "headers = {'accept': '*/*',\n",
    "           'user-agent': 'Mozilla/5.0 (Macintosh; Intel Mac OS X 10_14_5) AppleWebKit/537.36 (KHTML, like Gecko) '\n",
    "                         'Chrome/74.0.3729.169 Safari/537.36'}\n",
    "\n",
    "base_url = 'https://tver.hh.ru/search/vacancy?area=89&text=Python'\n",
    "\n",
    "\n",
    "def Parser(base_url, headers):\n",
    "    global title, company, href, compensation\n",
    "    data = []\n",
    "\n",
    "    session = requests.Session()\n",
    "    request = session.get(base_url, headers=headers)\n",
    "    if request.status_code == 200:\n",
    "        soup = bs(request.content, 'html.parser')\n",
    "        divs = soup.find_all('div', attrs={'data-qa': 'vacancy-serp__vacancy'})\n",
    "\n",
    "        print('По запросу найдено: ', len(divs), '\\n')\n",
    "        for div in divs:\n",
    "            title = div.find('a', attrs={'data-qa': 'vacancy-serp__vacancy-title'}).text\n",
    "            href = div.find('a', attrs={'data-qa': 'vacancy-serp__vacancy-title'})['href']\n",
    "            company = div.find('a', attrs={'data-qa': 'vacancy-serp__vacancy-employer'}).text\n",
    "            compensation = div.find('div', class_=\"vacancy-serp-item__sidebar\").text\n",
    "\n",
    "            print(company)\n",
    "            print(href)\n",
    "            print(title)\n",
    "            print(compensation, '\\n')\n",
    "\n",
    "        print(\"Connection is OK! \\n\")\n",
    "    else:\n",
    "        print(\"Connection denied! \\n\")\n",
    "\n",
    "    data.append({\n",
    "        'title': title,\n",
    "        'href': href,\n",
    "        'company': company,\n",
    "        'compensation': compensation\n",
    "    })\n",
    "\n",
    "\n",
    "Frame = pd.DataFrame({'title': ['Software developer',                   # 1\n",
    "                                'Lead Mobile Networking Architect',     # 2\n",
    "                                'Developer-analyst',                    # 3\n",
    "                                'Python-developer',                     # 4\n",
    "                                'Python-developer',                     # 5\n",
    "                                'Python&JS-developer',                  # 6\n",
    "                                'DevOps Engineer Linux',                # 7\n",
    "                                'Python teacher',                       # 8\n",
    "                                'Senior QA Engineer',                   # 9\n",
    "                                'DB-developer',                         # 10\n",
    "                                'Software Engineer',                    # 11\n",
    "                                'Senior system analyst',                # 12\n",
    "                                'DB-developer',                         # 13\n",
    "                                'BigData-developer',                    # 14\n",
    "                                ],\n",
    "\n",
    "                      'href': ['https://tver.hh.ru/vacancy/32843807?query=Python',\n",
    "                               'https://tver.hh.ru/vacancy/33321515?query=Python',\n",
    "                               'https://tver.hh.ru/vacancy/32790471?query=Python',\n",
    "                               'https://tver.hh.ru/vacancy/31510872?query=Python',\n",
    "                               'https://tver.hh.ru/vacancy/32730086?query=Python',\n",
    "                               'https://tver.hh.ru/vacancy/30693999?query=Python',\n",
    "                               'https://tver.hh.ru/vacancy/33009714?query=Python',\n",
    "                               'https://tver.hh.ru/vacancy/32856867?query=Python',\n",
    "                               'https://tver.hh.ru/vacancy/32849995?query=Python',\n",
    "                               'https://tver.hh.ru/vacancy/31510793?query=Python',\n",
    "                               'https://tver.hh.ru/vacancy/31510904?query=Python',\n",
    "                               'https://tver.hh.ru/vacancy/31452735?query=Python',\n",
    "                               'https://tver.hh.ru/vacancy/31510838?query=Python',\n",
    "                               'https://tver.hh.ru/vacancy/32803116?query=Python'],\n",
    "\n",
    "                      'company': ['OOO Integer',\n",
    "                                  'Nokia Networks',\n",
    "                                  'OOO Alpha Company',\n",
    "                                  'RuBaseIT',\n",
    "                                  'RuBaseIT',\n",
    "                                  'RuBaseIT',\n",
    "                                  'OOO Telecontact',\n",
    "                                  'techno-land Quantorium',\n",
    "                                  'Studio-Evolution',\n",
    "                                  'RuBaseIT',\n",
    "                                  'RuBaseIT',\n",
    "                                  'Accenture',\n",
    "                                  'RuBaseIT',\n",
    "                                  'EPAM System Inc',\n",
    "                                  ],\n",
    "\n",
    "                      'compensation': [30000,\n",
    "                                       None,\n",
    "                                       55000,\n",
    "                                       52500,\n",
    "                                       60000,\n",
    "                                       70000,\n",
    "                                       50000,\n",
    "                                       33000,\n",
    "                                       95000,\n",
    "                                       None,\n",
    "                                       None,\n",
    "                                       None,\n",
    "                                       None,\n",
    "                                       None]})\n",
    "\n",
    "print(Frame)\n",
    "Frame.to_csv('OutputData.csv', sep='\\t', header=True, index=True)\n",
    "\n",
    "Parser(base_url, headers)\n"
   ]
  },
  {
   "cell_type": "code",
   "execution_count": null,
   "metadata": {},
   "outputs": [],
   "source": []
  },
  {
   "cell_type": "code",
   "execution_count": null,
   "metadata": {},
   "outputs": [],
   "source": []
  },
  {
   "cell_type": "code",
   "execution_count": null,
   "metadata": {},
   "outputs": [],
   "source": []
  },
  {
   "cell_type": "code",
   "execution_count": null,
   "metadata": {},
   "outputs": [],
   "source": []
  },
  {
   "cell_type": "code",
   "execution_count": 2,
   "metadata": {},
   "outputs": [
    {
     "data": {
      "text/html": [
       "<div>\n",
       "<style scoped>\n",
       "    .dataframe tbody tr th:only-of-type {\n",
       "        vertical-align: middle;\n",
       "    }\n",
       "\n",
       "    .dataframe tbody tr th {\n",
       "        vertical-align: top;\n",
       "    }\n",
       "\n",
       "    .dataframe thead th {\n",
       "        text-align: right;\n",
       "    }\n",
       "</style>\n",
       "<table border=\"1\" class=\"dataframe\">\n",
       "  <thead>\n",
       "    <tr style=\"text-align: right;\">\n",
       "      <th></th>\n",
       "      <th>title</th>\n",
       "      <th>href</th>\n",
       "      <th>company</th>\n",
       "      <th>compensation</th>\n",
       "    </tr>\n",
       "  </thead>\n",
       "  <tbody>\n",
       "    <tr>\n",
       "      <th>0</th>\n",
       "      <td>Software developer</td>\n",
       "      <td>https://tver.hh.ru/vacancy/32843807?query=Python</td>\n",
       "      <td>OOO Integer</td>\n",
       "      <td>30000.0</td>\n",
       "    </tr>\n",
       "    <tr>\n",
       "      <th>1</th>\n",
       "      <td>Lead Mobile Networking Architect</td>\n",
       "      <td>https://tver.hh.ru/vacancy/33321515?query=Python</td>\n",
       "      <td>Nokia Networks</td>\n",
       "      <td>NaN</td>\n",
       "    </tr>\n",
       "    <tr>\n",
       "      <th>2</th>\n",
       "      <td>Developer-analyst</td>\n",
       "      <td>https://tver.hh.ru/vacancy/32790471?query=Python</td>\n",
       "      <td>OOO Alpha Company</td>\n",
       "      <td>55000.0</td>\n",
       "    </tr>\n",
       "    <tr>\n",
       "      <th>3</th>\n",
       "      <td>Python-developer</td>\n",
       "      <td>https://tver.hh.ru/vacancy/31510872?query=Python</td>\n",
       "      <td>RuBaseIT</td>\n",
       "      <td>52500.0</td>\n",
       "    </tr>\n",
       "    <tr>\n",
       "      <th>4</th>\n",
       "      <td>Python-developer</td>\n",
       "      <td>https://tver.hh.ru/vacancy/32730086?query=Python</td>\n",
       "      <td>RuBaseIT</td>\n",
       "      <td>60000.0</td>\n",
       "    </tr>\n",
       "    <tr>\n",
       "      <th>5</th>\n",
       "      <td>Python&amp;JS-developer</td>\n",
       "      <td>https://tver.hh.ru/vacancy/30693999?query=Python</td>\n",
       "      <td>RuBaseIT</td>\n",
       "      <td>70000.0</td>\n",
       "    </tr>\n",
       "    <tr>\n",
       "      <th>6</th>\n",
       "      <td>DevOps Engineer Linux</td>\n",
       "      <td>https://tver.hh.ru/vacancy/33009714?query=Python</td>\n",
       "      <td>OOO Telecontact</td>\n",
       "      <td>50000.0</td>\n",
       "    </tr>\n",
       "    <tr>\n",
       "      <th>7</th>\n",
       "      <td>Python teacher</td>\n",
       "      <td>https://tver.hh.ru/vacancy/32856867?query=Python</td>\n",
       "      <td>techno-land Quantorium</td>\n",
       "      <td>33000.0</td>\n",
       "    </tr>\n",
       "    <tr>\n",
       "      <th>8</th>\n",
       "      <td>Senior QA Engineer</td>\n",
       "      <td>https://tver.hh.ru/vacancy/32849995?query=Python</td>\n",
       "      <td>Studio-Evolution</td>\n",
       "      <td>95000.0</td>\n",
       "    </tr>\n",
       "    <tr>\n",
       "      <th>9</th>\n",
       "      <td>DB-developer</td>\n",
       "      <td>https://tver.hh.ru/vacancy/31510793?query=Python</td>\n",
       "      <td>RuBaseIT</td>\n",
       "      <td>NaN</td>\n",
       "    </tr>\n",
       "    <tr>\n",
       "      <th>10</th>\n",
       "      <td>Software Engineer</td>\n",
       "      <td>https://tver.hh.ru/vacancy/31510904?query=Python</td>\n",
       "      <td>RuBaseIT</td>\n",
       "      <td>NaN</td>\n",
       "    </tr>\n",
       "    <tr>\n",
       "      <th>11</th>\n",
       "      <td>Senior system analyst</td>\n",
       "      <td>https://tver.hh.ru/vacancy/31452735?query=Python</td>\n",
       "      <td>Accenture</td>\n",
       "      <td>NaN</td>\n",
       "    </tr>\n",
       "    <tr>\n",
       "      <th>12</th>\n",
       "      <td>DB-developer</td>\n",
       "      <td>https://tver.hh.ru/vacancy/31510838?query=Python</td>\n",
       "      <td>RuBaseIT</td>\n",
       "      <td>NaN</td>\n",
       "    </tr>\n",
       "    <tr>\n",
       "      <th>13</th>\n",
       "      <td>BigData-developer</td>\n",
       "      <td>https://tver.hh.ru/vacancy/32803116?query=Python</td>\n",
       "      <td>EPAM System Inc</td>\n",
       "      <td>NaN</td>\n",
       "    </tr>\n",
       "  </tbody>\n",
       "</table>\n",
       "</div>"
      ],
      "text/plain": [
       "                               title  \\\n",
       "0                 Software developer   \n",
       "1   Lead Mobile Networking Architect   \n",
       "2                  Developer-analyst   \n",
       "3                   Python-developer   \n",
       "4                   Python-developer   \n",
       "5                Python&JS-developer   \n",
       "6              DevOps Engineer Linux   \n",
       "7                     Python teacher   \n",
       "8                 Senior QA Engineer   \n",
       "9                       DB-developer   \n",
       "10                 Software Engineer   \n",
       "11             Senior system analyst   \n",
       "12                      DB-developer   \n",
       "13                 BigData-developer   \n",
       "\n",
       "                                                href                 company  \\\n",
       "0   https://tver.hh.ru/vacancy/32843807?query=Python             OOO Integer   \n",
       "1   https://tver.hh.ru/vacancy/33321515?query=Python          Nokia Networks   \n",
       "2   https://tver.hh.ru/vacancy/32790471?query=Python       OOO Alpha Company   \n",
       "3   https://tver.hh.ru/vacancy/31510872?query=Python                RuBaseIT   \n",
       "4   https://tver.hh.ru/vacancy/32730086?query=Python                RuBaseIT   \n",
       "5   https://tver.hh.ru/vacancy/30693999?query=Python                RuBaseIT   \n",
       "6   https://tver.hh.ru/vacancy/33009714?query=Python         OOO Telecontact   \n",
       "7   https://tver.hh.ru/vacancy/32856867?query=Python  techno-land Quantorium   \n",
       "8   https://tver.hh.ru/vacancy/32849995?query=Python        Studio-Evolution   \n",
       "9   https://tver.hh.ru/vacancy/31510793?query=Python                RuBaseIT   \n",
       "10  https://tver.hh.ru/vacancy/31510904?query=Python                RuBaseIT   \n",
       "11  https://tver.hh.ru/vacancy/31452735?query=Python               Accenture   \n",
       "12  https://tver.hh.ru/vacancy/31510838?query=Python                RuBaseIT   \n",
       "13  https://tver.hh.ru/vacancy/32803116?query=Python         EPAM System Inc   \n",
       "\n",
       "    compensation  \n",
       "0        30000.0  \n",
       "1            NaN  \n",
       "2        55000.0  \n",
       "3        52500.0  \n",
       "4        60000.0  \n",
       "5        70000.0  \n",
       "6        50000.0  \n",
       "7        33000.0  \n",
       "8        95000.0  \n",
       "9            NaN  \n",
       "10           NaN  \n",
       "11           NaN  \n",
       "12           NaN  \n",
       "13           NaN  "
      ]
     },
     "execution_count": 2,
     "metadata": {},
     "output_type": "execute_result"
    }
   ],
   "source": [
    "Frame"
   ]
  },
  {
   "cell_type": "code",
   "execution_count": 6,
   "metadata": {},
   "outputs": [
    {
     "data": {
      "text/html": [
       "<div>\n",
       "<style scoped>\n",
       "    .dataframe tbody tr th:only-of-type {\n",
       "        vertical-align: middle;\n",
       "    }\n",
       "\n",
       "    .dataframe tbody tr th {\n",
       "        vertical-align: top;\n",
       "    }\n",
       "\n",
       "    .dataframe thead th {\n",
       "        text-align: right;\n",
       "    }\n",
       "</style>\n",
       "<table border=\"1\" class=\"dataframe\">\n",
       "  <thead>\n",
       "    <tr style=\"text-align: right;\">\n",
       "      <th></th>\n",
       "      <th>title</th>\n",
       "      <th>href</th>\n",
       "      <th>company</th>\n",
       "      <th>compensation</th>\n",
       "    </tr>\n",
       "  </thead>\n",
       "  <tbody>\n",
       "    <tr>\n",
       "      <th>0</th>\n",
       "      <td>Software developer</td>\n",
       "      <td>https://tver.hh.ru/vacancy/32843807?query=Python</td>\n",
       "      <td>OOO Integer</td>\n",
       "      <td>30000.0</td>\n",
       "    </tr>\n",
       "    <tr>\n",
       "      <th>1</th>\n",
       "      <td>Lead Mobile Networking Architect</td>\n",
       "      <td>https://tver.hh.ru/vacancy/33321515?query=Python</td>\n",
       "      <td>Nokia Networks</td>\n",
       "      <td>NaN</td>\n",
       "    </tr>\n",
       "    <tr>\n",
       "      <th>2</th>\n",
       "      <td>Developer-analyst</td>\n",
       "      <td>https://tver.hh.ru/vacancy/32790471?query=Python</td>\n",
       "      <td>OOO Alpha Company</td>\n",
       "      <td>55000.0</td>\n",
       "    </tr>\n",
       "    <tr>\n",
       "      <th>3</th>\n",
       "      <td>Python-developer</td>\n",
       "      <td>https://tver.hh.ru/vacancy/31510872?query=Python</td>\n",
       "      <td>RuBaseIT</td>\n",
       "      <td>52500.0</td>\n",
       "    </tr>\n",
       "    <tr>\n",
       "      <th>4</th>\n",
       "      <td>Python-developer</td>\n",
       "      <td>https://tver.hh.ru/vacancy/32730086?query=Python</td>\n",
       "      <td>RuBaseIT</td>\n",
       "      <td>60000.0</td>\n",
       "    </tr>\n",
       "  </tbody>\n",
       "</table>\n",
       "</div>"
      ],
      "text/plain": [
       "                              title  \\\n",
       "0                Software developer   \n",
       "1  Lead Mobile Networking Architect   \n",
       "2                 Developer-analyst   \n",
       "3                  Python-developer   \n",
       "4                  Python-developer   \n",
       "\n",
       "                                               href            company  \\\n",
       "0  https://tver.hh.ru/vacancy/32843807?query=Python        OOO Integer   \n",
       "1  https://tver.hh.ru/vacancy/33321515?query=Python     Nokia Networks   \n",
       "2  https://tver.hh.ru/vacancy/32790471?query=Python  OOO Alpha Company   \n",
       "3  https://tver.hh.ru/vacancy/31510872?query=Python           RuBaseIT   \n",
       "4  https://tver.hh.ru/vacancy/32730086?query=Python           RuBaseIT   \n",
       "\n",
       "   compensation  \n",
       "0       30000.0  \n",
       "1           NaN  \n",
       "2       55000.0  \n",
       "3       52500.0  \n",
       "4       60000.0  "
      ]
     },
     "execution_count": 6,
     "metadata": {},
     "output_type": "execute_result"
    }
   ],
   "source": [
    "Frame.head()"
   ]
  },
  {
   "cell_type": "code",
   "execution_count": 97,
   "metadata": {},
   "outputs": [
    {
     "data": {
      "text/html": [
       "        <script type=\"text/javascript\">\n",
       "        window.PlotlyConfig = {MathJaxConfig: 'local'};\n",
       "        if (window.MathJax) {MathJax.Hub.Config({SVG: {font: \"STIX-Web\"}});}\n",
       "        if (typeof require !== 'undefined') {\n",
       "        require.undef(\"plotly\");\n",
       "        requirejs.config({\n",
       "            paths: {\n",
       "                'plotly': ['https://cdn.plot.ly/plotly-latest.min']\n",
       "            }\n",
       "        });\n",
       "        require(['plotly'], function(Plotly) {\n",
       "            window._Plotly = Plotly;\n",
       "        });\n",
       "        }\n",
       "        </script>\n",
       "        "
      ]
     },
     "metadata": {},
     "output_type": "display_data"
    },
    {
     "data": {
      "application/vnd.plotly.v1+json": {
       "config": {
        "linkText": "Export to plot.ly",
        "plotlyServerURL": "https://plot.ly",
        "showLink": true
       },
       "data": [
        {
         "histfunc": "count",
         "histnorm": "",
         "marker": {
          "color": "rgba(255, 153, 51, 1.0)",
          "line": {
           "color": "#4D5663",
           "width": 1.3
          }
         },
         "name": "compensation",
         "opacity": 0.8,
         "orientation": "v",
         "type": "histogram",
         "uid": "a8d8fabd-9945-46f1-a16f-c29201ee3475",
         "x": [
          30000,
          null,
          55000,
          52500,
          60000,
          70000,
          50000,
          33000,
          95000,
          null,
          null,
          null,
          null,
          null
         ]
        }
       ],
       "layout": {
        "barmode": "overlay",
        "legend": {
         "bgcolor": "#F5F6F9",
         "font": {
          "color": "#4D5663"
         }
        },
        "paper_bgcolor": "#F5F6F9",
        "plot_bgcolor": "#F5F6F9",
        "title": {
         "font": {
          "color": "#4D5663"
         },
         "text": "Salary Distribution"
        },
        "xaxis": {
         "gridcolor": "#E1E5ED",
         "showgrid": true,
         "tickfont": {
          "color": "#4D5663"
         },
         "title": {
          "font": {
           "color": "#4D5663"
          },
          "text": "Linear Distribution"
         },
         "zerolinecolor": "#E1E5ED"
        },
        "yaxis": {
         "gridcolor": "#E1E5ED",
         "showgrid": true,
         "tickfont": {
          "color": "#4D5663"
         },
         "title": {
          "font": {
           "color": "#4D5663"
          },
          "text": "Increase"
         },
         "zerolinecolor": "#E1E5ED"
        }
       }
      },
      "text/html": [
       "<div>\n",
       "        \n",
       "        \n",
       "            <div id=\"5ff6fa81-ac51-44e9-b850-07cee8de3ef6\" class=\"plotly-graph-div\" style=\"height:525px; width:100%;\"></div>\n",
       "            <script type=\"text/javascript\">\n",
       "                require([\"plotly\"], function(Plotly) {\n",
       "                    window.PLOTLYENV=window.PLOTLYENV || {};\n",
       "                    window.PLOTLYENV.BASE_URL='https://plot.ly';\n",
       "                    \n",
       "                if (document.getElementById(\"5ff6fa81-ac51-44e9-b850-07cee8de3ef6\")) {\n",
       "                    Plotly.newPlot(\n",
       "                        '5ff6fa81-ac51-44e9-b850-07cee8de3ef6',\n",
       "                        [{\"histfunc\": \"count\", \"histnorm\": \"\", \"marker\": {\"color\": \"rgba(255, 153, 51, 1.0)\", \"line\": {\"color\": \"#4D5663\", \"width\": 1.3}}, \"name\": \"compensation\", \"opacity\": 0.8, \"orientation\": \"v\", \"type\": \"histogram\", \"uid\": \"a8d8fabd-9945-46f1-a16f-c29201ee3475\", \"x\": [30000.0, null, 55000.0, 52500.0, 60000.0, 70000.0, 50000.0, 33000.0, 95000.0, null, null, null, null, null]}],\n",
       "                        {\"barmode\": \"overlay\", \"legend\": {\"bgcolor\": \"#F5F6F9\", \"font\": {\"color\": \"#4D5663\"}}, \"paper_bgcolor\": \"#F5F6F9\", \"plot_bgcolor\": \"#F5F6F9\", \"title\": {\"font\": {\"color\": \"#4D5663\"}, \"text\": \"Salary Distribution\"}, \"xaxis\": {\"gridcolor\": \"#E1E5ED\", \"showgrid\": true, \"tickfont\": {\"color\": \"#4D5663\"}, \"title\": {\"font\": {\"color\": \"#4D5663\"}, \"text\": \"Linear Distribution\"}, \"zerolinecolor\": \"#E1E5ED\"}, \"yaxis\": {\"gridcolor\": \"#E1E5ED\", \"showgrid\": true, \"tickfont\": {\"color\": \"#4D5663\"}, \"title\": {\"font\": {\"color\": \"#4D5663\"}, \"text\": \"Increase\"}, \"zerolinecolor\": \"#E1E5ED\"}},\n",
       "                        {\"showLink\": true, \"linkText\": \"Export to plot.ly\", \"plotlyServerURL\": \"https://plot.ly\", \"responsive\": true}\n",
       "                    ).then(function(){\n",
       "                            \n",
       "var gd = document.getElementById('5ff6fa81-ac51-44e9-b850-07cee8de3ef6');\n",
       "var x = new MutationObserver(function (mutations, observer) {{\n",
       "        var display = window.getComputedStyle(gd).display;\n",
       "        if (!display || display === 'none') {{\n",
       "            console.log([gd, 'removed!']);\n",
       "            Plotly.purge(gd);\n",
       "            observer.disconnect();\n",
       "        }}\n",
       "}});\n",
       "\n",
       "// Listen for the removal of the full notebook cells\n",
       "var notebookContainer = gd.closest('#notebook-container');\n",
       "if (notebookContainer) {{\n",
       "    x.observe(notebookContainer, {childList: true});\n",
       "}}\n",
       "\n",
       "// Listen for the clearing of the current output cell\n",
       "var outputEl = gd.closest('.output');\n",
       "if (outputEl) {{\n",
       "    x.observe(outputEl, {childList: true});\n",
       "}}\n",
       "\n",
       "                        })\n",
       "                };\n",
       "                });\n",
       "            </script>\n",
       "        </div>"
      ]
     },
     "metadata": {},
     "output_type": "display_data"
    },
    {
     "name": "stdout",
     "output_type": "stream",
     "text": [
      "Дискретная разность:  AxesSubplot(0.125,0.11;0.775x0.77)\n",
      "Средняя З/П:  55687.5\n"
     ]
    }
   ],
   "source": [
    "import plotly.plotly as py\n",
    "import plotly.graph_objs as go\n",
    "from plotly.offline import iplot\n",
    "import cufflinks\n",
    "cufflinks.go_offline()\n",
    "\n",
    "Frame['compensation'].iplot(kind='hist', xTitle='Linear Distribution',\n",
    "                  yTitle='Increase', title='Salary Distribution')\n",
    "\n",
    "diff = Frame['compensation'].diff().hist()\n",
    "print('Дискретная разность: ', diff)\n",
    "compensation_mean = Frame.get('compensation')\n",
    "print('Средняя З/П: ',compensation_mean.mean())"
   ]
  },
  {
   "cell_type": "code",
   "execution_count": 98,
   "metadata": {},
   "outputs": [
    {
     "data": {
      "application/vnd.plotly.v1+json": {
       "config": {
        "linkText": "Export to plot.ly",
        "plotlyServerURL": "https://plot.ly",
        "showLink": true
       },
       "data": [
        {
         "line": {
          "color": "rgba(255, 153, 51, 1.0)",
          "dash": "solid",
          "shape": "linear",
          "width": 1.3
         },
         "mode": "lines",
         "name": "compensation",
         "text": "",
         "type": "scatter",
         "uid": "1867351d-2b6a-4ce6-a548-838ed1ba8b3e",
         "x": [
          "Software developer",
          "Lead Mobile Networking Architect",
          "Developer-analyst",
          "Python-developer",
          "Python-developer",
          "Python&JS-developer",
          "DevOps Engineer Linux",
          "Python teacher",
          "Senior QA Engineer",
          "DB-developer",
          "Software Engineer",
          "Senior system analyst",
          "DB-developer",
          "BigData-developer"
         ],
         "y": [
          30000,
          "",
          55000,
          52500,
          60000,
          70000,
          50000,
          33000,
          95000,
          "",
          "",
          "",
          "",
          ""
         ]
        }
       ],
       "layout": {
        "legend": {
         "bgcolor": "#F5F6F9",
         "font": {
          "color": "#4D5663"
         }
        },
        "paper_bgcolor": "#F5F6F9",
        "plot_bgcolor": "#F5F6F9",
        "title": {
         "font": {
          "color": "#4D5663"
         },
         "text": "Dependence of salary on position"
        },
        "xaxis": {
         "gridcolor": "#E1E5ED",
         "showgrid": true,
         "tickfont": {
          "color": "#4D5663"
         },
         "title": {
          "font": {
           "color": "#4D5663"
          },
          "text": "Position"
         },
         "zerolinecolor": "#E1E5ED"
        },
        "yaxis": {
         "gridcolor": "#E1E5ED",
         "showgrid": true,
         "tickfont": {
          "color": "#4D5663"
         },
         "title": {
          "font": {
           "color": "#4D5663"
          },
          "text": "Salary"
         },
         "zerolinecolor": "#E1E5ED"
        }
       }
      },
      "text/html": [
       "<div>\n",
       "        \n",
       "        \n",
       "            <div id=\"4428c6e4-c550-4328-9ad3-71282cb5c046\" class=\"plotly-graph-div\" style=\"height:525px; width:100%;\"></div>\n",
       "            <script type=\"text/javascript\">\n",
       "                require([\"plotly\"], function(Plotly) {\n",
       "                    window.PLOTLYENV=window.PLOTLYENV || {};\n",
       "                    window.PLOTLYENV.BASE_URL='https://plot.ly';\n",
       "                    \n",
       "                if (document.getElementById(\"4428c6e4-c550-4328-9ad3-71282cb5c046\")) {\n",
       "                    Plotly.newPlot(\n",
       "                        '4428c6e4-c550-4328-9ad3-71282cb5c046',\n",
       "                        [{\"line\": {\"color\": \"rgba(255, 153, 51, 1.0)\", \"dash\": \"solid\", \"shape\": \"linear\", \"width\": 1.3}, \"mode\": \"lines\", \"name\": \"compensation\", \"text\": \"\", \"type\": \"scatter\", \"uid\": \"1867351d-2b6a-4ce6-a548-838ed1ba8b3e\", \"x\": [\"Software developer\", \"Lead Mobile Networking Architect\", \"Developer-analyst\", \"Python-developer\", \"Python-developer\", \"Python&JS-developer\", \"DevOps Engineer Linux\", \"Python teacher\", \"Senior QA Engineer\", \"DB-developer\", \"Software Engineer\", \"Senior system analyst\", \"DB-developer\", \"BigData-developer\"], \"y\": [30000.0, \"\", 55000.0, 52500.0, 60000.0, 70000.0, 50000.0, 33000.0, 95000.0, \"\", \"\", \"\", \"\", \"\"]}],\n",
       "                        {\"legend\": {\"bgcolor\": \"#F5F6F9\", \"font\": {\"color\": \"#4D5663\"}}, \"paper_bgcolor\": \"#F5F6F9\", \"plot_bgcolor\": \"#F5F6F9\", \"title\": {\"font\": {\"color\": \"#4D5663\"}, \"text\": \"Dependence of salary on position\"}, \"xaxis\": {\"gridcolor\": \"#E1E5ED\", \"showgrid\": true, \"tickfont\": {\"color\": \"#4D5663\"}, \"title\": {\"font\": {\"color\": \"#4D5663\"}, \"text\": \"Position\"}, \"zerolinecolor\": \"#E1E5ED\"}, \"yaxis\": {\"gridcolor\": \"#E1E5ED\", \"showgrid\": true, \"tickfont\": {\"color\": \"#4D5663\"}, \"title\": {\"font\": {\"color\": \"#4D5663\"}, \"text\": \"Salary\"}, \"zerolinecolor\": \"#E1E5ED\"}},\n",
       "                        {\"showLink\": true, \"linkText\": \"Export to plot.ly\", \"plotlyServerURL\": \"https://plot.ly\", \"responsive\": true}\n",
       "                    ).then(function(){\n",
       "                            \n",
       "var gd = document.getElementById('4428c6e4-c550-4328-9ad3-71282cb5c046');\n",
       "var x = new MutationObserver(function (mutations, observer) {{\n",
       "        var display = window.getComputedStyle(gd).display;\n",
       "        if (!display || display === 'none') {{\n",
       "            console.log([gd, 'removed!']);\n",
       "            Plotly.purge(gd);\n",
       "            observer.disconnect();\n",
       "        }}\n",
       "}});\n",
       "\n",
       "// Listen for the removal of the full notebook cells\n",
       "var notebookContainer = gd.closest('#notebook-container');\n",
       "if (notebookContainer) {{\n",
       "    x.observe(notebookContainer, {childList: true});\n",
       "}}\n",
       "\n",
       "// Listen for the clearing of the current output cell\n",
       "var outputEl = gd.closest('.output');\n",
       "if (outputEl) {{\n",
       "    x.observe(outputEl, {childList: true});\n",
       "}}\n",
       "\n",
       "                        })\n",
       "                };\n",
       "                });\n",
       "            </script>\n",
       "        </div>"
      ]
     },
     "metadata": {},
     "output_type": "display_data"
    }
   ],
   "source": [
    "Frame.iplot(\n",
    "    x='title',\n",
    "    y='compensation',\n",
    "    # Указываем категорию\n",
    "    xTitle='Position',\n",
    "    yTitle='Salary',\n",
    "    title='Dependence of salary on position')"
   ]
  },
  {
   "cell_type": "code",
   "execution_count": null,
   "metadata": {},
   "outputs": [],
   "source": []
  },
  {
   "cell_type": "code",
   "execution_count": null,
   "metadata": {},
   "outputs": [],
   "source": []
  },
  {
   "cell_type": "code",
   "execution_count": null,
   "metadata": {},
   "outputs": [],
   "source": []
  },
  {
   "cell_type": "code",
   "execution_count": null,
   "metadata": {},
   "outputs": [],
   "source": []
  },
  {
   "cell_type": "code",
   "execution_count": null,
   "metadata": {},
   "outputs": [],
   "source": []
  },
  {
   "cell_type": "code",
   "execution_count": null,
   "metadata": {},
   "outputs": [],
   "source": []
  },
  {
   "cell_type": "code",
   "execution_count": null,
   "metadata": {},
   "outputs": [],
   "source": []
  },
  {
   "cell_type": "code",
   "execution_count": null,
   "metadata": {},
   "outputs": [],
   "source": []
  },
  {
   "cell_type": "code",
   "execution_count": null,
   "metadata": {},
   "outputs": [],
   "source": []
  },
  {
   "cell_type": "code",
   "execution_count": null,
   "metadata": {},
   "outputs": [],
   "source": []
  },
  {
   "cell_type": "code",
   "execution_count": null,
   "metadata": {},
   "outputs": [],
   "source": []
  },
  {
   "cell_type": "code",
   "execution_count": null,
   "metadata": {},
   "outputs": [],
   "source": []
  },
  {
   "cell_type": "code",
   "execution_count": null,
   "metadata": {},
   "outputs": [],
   "source": []
  },
  {
   "cell_type": "code",
   "execution_count": null,
   "metadata": {},
   "outputs": [],
   "source": []
  },
  {
   "cell_type": "code",
   "execution_count": null,
   "metadata": {},
   "outputs": [],
   "source": []
  },
  {
   "cell_type": "code",
   "execution_count": null,
   "metadata": {},
   "outputs": [],
   "source": []
  },
  {
   "cell_type": "code",
   "execution_count": null,
   "metadata": {},
   "outputs": [],
   "source": []
  },
  {
   "cell_type": "code",
   "execution_count": null,
   "metadata": {},
   "outputs": [],
   "source": []
  },
  {
   "cell_type": "code",
   "execution_count": null,
   "metadata": {},
   "outputs": [],
   "source": []
  },
  {
   "cell_type": "code",
   "execution_count": null,
   "metadata": {},
   "outputs": [],
   "source": []
  },
  {
   "cell_type": "code",
   "execution_count": null,
   "metadata": {},
   "outputs": [],
   "source": []
  },
  {
   "cell_type": "code",
   "execution_count": null,
   "metadata": {},
   "outputs": [],
   "source": []
  },
  {
   "cell_type": "code",
   "execution_count": null,
   "metadata": {},
   "outputs": [],
   "source": []
  },
  {
   "cell_type": "code",
   "execution_count": null,
   "metadata": {},
   "outputs": [],
   "source": []
  },
  {
   "cell_type": "code",
   "execution_count": null,
   "metadata": {},
   "outputs": [],
   "source": []
  },
  {
   "cell_type": "code",
   "execution_count": null,
   "metadata": {},
   "outputs": [],
   "source": []
  },
  {
   "cell_type": "code",
   "execution_count": null,
   "metadata": {},
   "outputs": [],
   "source": []
  },
  {
   "cell_type": "code",
   "execution_count": null,
   "metadata": {},
   "outputs": [],
   "source": []
  },
  {
   "cell_type": "code",
   "execution_count": null,
   "metadata": {},
   "outputs": [],
   "source": []
  },
  {
   "cell_type": "code",
   "execution_count": null,
   "metadata": {},
   "outputs": [],
   "source": []
  },
  {
   "cell_type": "code",
   "execution_count": null,
   "metadata": {},
   "outputs": [],
   "source": []
  },
  {
   "cell_type": "code",
   "execution_count": null,
   "metadata": {},
   "outputs": [],
   "source": []
  },
  {
   "cell_type": "code",
   "execution_count": null,
   "metadata": {},
   "outputs": [],
   "source": []
  },
  {
   "cell_type": "code",
   "execution_count": null,
   "metadata": {},
   "outputs": [],
   "source": []
  },
  {
   "cell_type": "code",
   "execution_count": null,
   "metadata": {},
   "outputs": [],
   "source": []
  },
  {
   "cell_type": "code",
   "execution_count": null,
   "metadata": {},
   "outputs": [],
   "source": []
  },
  {
   "cell_type": "code",
   "execution_count": null,
   "metadata": {},
   "outputs": [],
   "source": []
  },
  {
   "cell_type": "code",
   "execution_count": null,
   "metadata": {},
   "outputs": [],
   "source": []
  },
  {
   "cell_type": "code",
   "execution_count": null,
   "metadata": {},
   "outputs": [],
   "source": []
  },
  {
   "cell_type": "code",
   "execution_count": null,
   "metadata": {},
   "outputs": [],
   "source": []
  },
  {
   "cell_type": "code",
   "execution_count": null,
   "metadata": {},
   "outputs": [],
   "source": []
  },
  {
   "cell_type": "code",
   "execution_count": null,
   "metadata": {},
   "outputs": [],
   "source": []
  },
  {
   "cell_type": "code",
   "execution_count": null,
   "metadata": {},
   "outputs": [],
   "source": []
  },
  {
   "cell_type": "code",
   "execution_count": null,
   "metadata": {},
   "outputs": [],
   "source": []
  },
  {
   "cell_type": "code",
   "execution_count": null,
   "metadata": {},
   "outputs": [],
   "source": []
  },
  {
   "cell_type": "code",
   "execution_count": null,
   "metadata": {},
   "outputs": [],
   "source": []
  },
  {
   "cell_type": "code",
   "execution_count": null,
   "metadata": {},
   "outputs": [],
   "source": []
  },
  {
   "cell_type": "code",
   "execution_count": null,
   "metadata": {},
   "outputs": [],
   "source": []
  },
  {
   "cell_type": "code",
   "execution_count": null,
   "metadata": {},
   "outputs": [],
   "source": []
  },
  {
   "cell_type": "code",
   "execution_count": null,
   "metadata": {},
   "outputs": [],
   "source": []
  },
  {
   "cell_type": "code",
   "execution_count": null,
   "metadata": {},
   "outputs": [],
   "source": []
  },
  {
   "cell_type": "code",
   "execution_count": null,
   "metadata": {},
   "outputs": [],
   "source": []
  },
  {
   "cell_type": "code",
   "execution_count": null,
   "metadata": {},
   "outputs": [],
   "source": []
  },
  {
   "cell_type": "code",
   "execution_count": null,
   "metadata": {},
   "outputs": [],
   "source": []
  },
  {
   "cell_type": "code",
   "execution_count": null,
   "metadata": {},
   "outputs": [],
   "source": []
  },
  {
   "cell_type": "code",
   "execution_count": null,
   "metadata": {},
   "outputs": [],
   "source": []
  },
  {
   "cell_type": "code",
   "execution_count": null,
   "metadata": {},
   "outputs": [],
   "source": []
  },
  {
   "cell_type": "code",
   "execution_count": null,
   "metadata": {},
   "outputs": [],
   "source": []
  },
  {
   "cell_type": "code",
   "execution_count": null,
   "metadata": {},
   "outputs": [],
   "source": []
  },
  {
   "cell_type": "code",
   "execution_count": null,
   "metadata": {},
   "outputs": [],
   "source": []
  },
  {
   "cell_type": "code",
   "execution_count": null,
   "metadata": {},
   "outputs": [],
   "source": []
  },
  {
   "cell_type": "code",
   "execution_count": null,
   "metadata": {},
   "outputs": [],
   "source": []
  },
  {
   "cell_type": "code",
   "execution_count": null,
   "metadata": {},
   "outputs": [],
   "source": []
  },
  {
   "cell_type": "code",
   "execution_count": null,
   "metadata": {},
   "outputs": [],
   "source": []
  },
  {
   "cell_type": "code",
   "execution_count": null,
   "metadata": {},
   "outputs": [],
   "source": []
  },
  {
   "cell_type": "code",
   "execution_count": null,
   "metadata": {},
   "outputs": [],
   "source": []
  },
  {
   "cell_type": "code",
   "execution_count": null,
   "metadata": {},
   "outputs": [],
   "source": []
  },
  {
   "cell_type": "code",
   "execution_count": null,
   "metadata": {},
   "outputs": [],
   "source": []
  },
  {
   "cell_type": "code",
   "execution_count": null,
   "metadata": {},
   "outputs": [],
   "source": []
  },
  {
   "cell_type": "code",
   "execution_count": null,
   "metadata": {},
   "outputs": [],
   "source": []
  },
  {
   "cell_type": "code",
   "execution_count": null,
   "metadata": {},
   "outputs": [],
   "source": []
  },
  {
   "cell_type": "code",
   "execution_count": null,
   "metadata": {},
   "outputs": [],
   "source": []
  },
  {
   "cell_type": "code",
   "execution_count": null,
   "metadata": {},
   "outputs": [],
   "source": []
  },
  {
   "cell_type": "code",
   "execution_count": null,
   "metadata": {},
   "outputs": [],
   "source": []
  },
  {
   "cell_type": "code",
   "execution_count": null,
   "metadata": {},
   "outputs": [],
   "source": []
  },
  {
   "cell_type": "code",
   "execution_count": null,
   "metadata": {},
   "outputs": [],
   "source": []
  },
  {
   "cell_type": "code",
   "execution_count": null,
   "metadata": {},
   "outputs": [],
   "source": []
  }
 ],
 "metadata": {
  "kernelspec": {
   "display_name": "Python 3",
   "language": "python",
   "name": "python3"
  },
  "language_info": {
   "codemirror_mode": {
    "name": "ipython",
    "version": 3
   },
   "file_extension": ".py",
   "mimetype": "text/x-python",
   "name": "python",
   "nbconvert_exporter": "python",
   "pygments_lexer": "ipython3",
   "version": "3.6.7"
  }
 },
 "nbformat": 4,
 "nbformat_minor": 2
}
